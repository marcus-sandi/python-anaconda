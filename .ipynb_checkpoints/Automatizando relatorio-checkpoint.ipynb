{
 "cells": [
  {
   "cell_type": "code",
   "execution_count": 6,
   "id": "679c5484",
   "metadata": {},
   "outputs": [
    {
     "name": "stdout",
     "output_type": "stream",
     "text": [
      "Relatório criado!\n"
     ]
    }
   ],
   "source": [
    "# Copiando dados de um relatório em uma nova planilha\n",
    "\n",
    "from openpyxl import load_workbook\n",
    "from openpyxl import Workbook\n",
    "import os\n",
    "\n",
    "caminhoDados = 'C:\\\\Users\\\\vini6\\\\Documents\\\\excel\\\\CURSO EXCEL VBA BI\\\\Python\\Automatizando processos\\\\DadosSistema.xlsx'\n",
    "planilhaDados = load_workbook(filename=caminhoDados)\n",
    "\n",
    "# Seleciona a sheet de Dados\n",
    "sheetDados = planilhaDados['Sheet']\n",
    "\n",
    "# Cria novo arquivo Excel\n",
    "criandoNovoArquivoExcel = Workbook()\n",
    "novaPlanilha = criandoNovoArquivoExcel.active\n",
    "\n",
    "# Copia dados de uma planilha para outra\n",
    "for i in range(1, len(sheetDados['A']) + 1):\n",
    "    for x in range(1, 6):\n",
    "        novaPlanilha.cell(row=i, column=x).value = sheetDados.cell(row=i, column=x).value\n",
    "    \n",
    "caminhoNovaPlanilha = 'C:\\\\Users\\\\vini6\\\\Documents\\\\excel\\\\CURSO EXCEL VBA BI\\\\Python\\Automatizando processos\\\\RelatorioAutomatizado.xlsx'\n",
    "\n",
    "novaPlanilha.delete_rows(2)\n",
    "novaPlanilha.delete_cols(2)\n",
    "novaPlanilha.delete_cols(2)\n",
    "\n",
    "# Renomear sheet\n",
    "novaPlanilha.title = \"Dados funcionarios\"\n",
    "\n",
    "# Criar sheet nova com nome Resumo\n",
    "criandoNovoArquivoExcel.create_sheet('Resumo')\n",
    "\n",
    "selecionaSheetResumo = criandoNovoArquivoExcel['Resumo']\n",
    "\n",
    "selecionaSheetResumo['A1'] = \"Vendedor\"\n",
    "selecionaSheetResumo['B1'] = \"Total\"\n",
    "selecionaSheetResumo['A2'] = \"Amanda Martins\"\n",
    "selecionaSheetResumo['A3'] = \"Eliane Moreira\"\n",
    "selecionaSheetResumo['A4'] = \"Leonardo Almeida\"\n",
    "selecionaSheetResumo['A5'] = \"Nicolas Pereira\"\n",
    "selecionaSheetResumo['A6'] = \"Total\"\n",
    "\n",
    "selecionaSheetResumo['B2'] = \"=SUMIF('Dados funcionarios'!A:C,Resumo!A2,'Dados funcionarios'!C:C)\"\n",
    "selecionaSheetResumo['B3'] = \"=SUMIF('Dados funcionarios'!A:C,Resumo!A3,'Dados funcionarios'!C:C)\"\n",
    "selecionaSheetResumo['B4'] = \"=SUMIF('Dados funcionarios'!A:C,Resumo!A4,'Dados funcionarios'!C:C)\"\n",
    "selecionaSheetResumo['B5'] = \"=SUMIF('Dados funcionarios'!A:C,Resumo!A5,'Dados funcionarios'!C:C)\"\n",
    "selecionaSheetResumo['B6'] = \"=SUM(B2:B5)\"\n",
    "\n",
    "# Salvar tudo\n",
    "criandoNovoArquivoExcel.save(filename=caminhoNovaPlanilha)\n",
    "print(\"Relatório criado!\")\n",
    "\n",
    "os.startfile(caminhoNovaPlanilha)"
   ]
  },
  {
   "cell_type": "code",
   "execution_count": null,
   "id": "d1c6232a",
   "metadata": {},
   "outputs": [],
   "source": []
  }
 ],
 "metadata": {
  "kernelspec": {
   "display_name": "Python 3 (ipykernel)",
   "language": "python",
   "name": "python3"
  },
  "language_info": {
   "codemirror_mode": {
    "name": "ipython",
    "version": 3
   },
   "file_extension": ".py",
   "mimetype": "text/x-python",
   "name": "python",
   "nbconvert_exporter": "python",
   "pygments_lexer": "ipython3",
   "version": "3.11.3"
  }
 },
 "nbformat": 4,
 "nbformat_minor": 5
}
