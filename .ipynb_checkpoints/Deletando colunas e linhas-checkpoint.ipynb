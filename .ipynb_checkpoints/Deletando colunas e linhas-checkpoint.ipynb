{
 "cells": [
  {
   "cell_type": "code",
   "execution_count": 3,
   "id": "4aa37681",
   "metadata": {},
   "outputs": [],
   "source": [
    "from openpyxl import load_workbook\n",
    "import os\n",
    "\n",
    "arquivo = 'C:\\\\Users\\\\vini6\\\\Documents\\\\excel\\\\CURSO EXCEL VBA BI\\\\Python\\Automatizando processos\\\\PythonDeletaLinhasEColunas.xlsx'\n",
    "planilha_aberta = load_workbook(filename=arquivo)\n",
    "\n",
    "sheet_selecionada = planilha_aberta['Aluno']\n",
    "\n",
    "sheet_selecionada.delete_rows(2)\n",
    "sheet_selecionada.delete_rows(4)\n",
    "sheet_selecionada.delete_cols(2)\n",
    "\n",
    "planilha_aberta.save(filename=arquivo)\n",
    "\n",
    "os.startfile(arquivo)"
   ]
  },
  {
   "cell_type": "code",
   "execution_count": null,
   "id": "27bfc6bd",
   "metadata": {},
   "outputs": [],
   "source": []
  }
 ],
 "metadata": {
  "kernelspec": {
   "display_name": "Python 3 (ipykernel)",
   "language": "python",
   "name": "python3"
  },
  "language_info": {
   "codemirror_mode": {
    "name": "ipython",
    "version": 3
   },
   "file_extension": ".py",
   "mimetype": "text/x-python",
   "name": "python",
   "nbconvert_exporter": "python",
   "pygments_lexer": "ipython3",
   "version": "3.11.3"
  }
 },
 "nbformat": 4,
 "nbformat_minor": 5
}
