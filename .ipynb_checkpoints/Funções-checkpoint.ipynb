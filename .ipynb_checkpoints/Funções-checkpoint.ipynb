{
 "cells": [
  {
   "cell_type": "code",
   "execution_count": 4,
   "id": "ee559ac4",
   "metadata": {},
   "outputs": [
    {
     "name": "stdout",
     "output_type": "stream",
     "text": [
      "Dados executados com sucesso!\n"
     ]
    }
   ],
   "source": [
    "from openpyxl import load_workbook\n",
    "import os\n",
    "\n",
    "arquivo = 'C:\\\\Users\\\\vini6\\\\Documents\\\\excel\\\\CURSO EXCEL VBA BI\\\\Python\\Automatizando processos\\\\Formulas.xlsx'\n",
    "planilha_selecionada = load_workbook(filename=arquivo)\n",
    "\n",
    "sheet_selecionada = planilha_selecionada['Aluno']\n",
    "\n",
    "sheet_selecionada['A6'] = \"=SUM(A2:A5)\"\n",
    "sheet_selecionada['B6'] = \"=SUM(B2:B5)\"\n",
    "sheet_selecionada['D2'] = \"=A2+B2\"\n",
    "sheet_selecionada['D3'] = \"=A3-B3\"\n",
    "sheet_selecionada['D4'] = \"=A4*B4\"\n",
    "sheet_selecionada['D5'] = \"=A5/B5\"\n",
    "\n",
    "# Usar o , em vez de ;\n",
    "sheet_selecionada['B12'] = \"=MID(A12,1,3)\"\n",
    "sheet_selecionada['C12'] = \"=MID(A12,5,3)\"\n",
    "sheet_selecionada['D12'] = \"=MID(A12,9,3)\"\n",
    "sheet_selecionada['E12'] = \"=MID(A12,13,2)\"\n",
    "\n",
    "print(\"Dados executados com sucesso!\")\n",
    "    \n",
    "# Salvar tudo\n",
    "planilha_selecionada.save(filename=arquivo)\n",
    "\n",
    "os.startfile(arquivo)"
   ]
  },
  {
   "cell_type": "code",
   "execution_count": null,
   "id": "70db688a",
   "metadata": {},
   "outputs": [],
   "source": []
  }
 ],
 "metadata": {
  "kernelspec": {
   "display_name": "Python 3 (ipykernel)",
   "language": "python",
   "name": "python3"
  },
  "language_info": {
   "codemirror_mode": {
    "name": "ipython",
    "version": 3
   },
   "file_extension": ".py",
   "mimetype": "text/x-python",
   "name": "python",
   "nbconvert_exporter": "python",
   "pygments_lexer": "ipython3",
   "version": "3.11.3"
  }
 },
 "nbformat": 4,
 "nbformat_minor": 5
}
