{
 "cells": [
  {
   "cell_type": "code",
   "execution_count": 13,
   "id": "07988b01",
   "metadata": {},
   "outputs": [
    {
     "name": "stdout",
     "output_type": "stream",
     "text": [
      "Relatório criado!\n"
     ]
    }
   ],
   "source": [
    "import xlsxwriter\n",
    "import os\n",
    "\n",
    "workbook = xlsxwriter.Workbook('C:\\\\Users\\\\vini6\\\\Documents\\\\excel\\\\CURSO EXCEL VBA BI\\\\Python\\Automatizando processos\\\\Gráficos.xlsx')\n",
    "worksheet = workbook.add_worksheet(\"Resumo\")\n",
    "\n",
    "\n",
    "negrito = workbook.add_format({\n",
    "    'bold' : 1\n",
    "})\n",
    "\n",
    "cabeçalho = ['Vendedores', 'Vendas']\n",
    "\n",
    "dadosTabela = [\n",
    "    [\"Milena\", \"Marcus\", \"Ernesto\", \"Cupinxa\", \"Salun\"],\n",
    "    [190, 127, 497, 51, 225]\n",
    "]\n",
    "\n",
    "worksheet.write_row('A1', cabeçalho, negrito)\n",
    "worksheet.write_column('A2', dadosTabela[0])\n",
    "worksheet.write_column('B2', dadosTabela[1])\n",
    "\n",
    "graficoColunas = workbook.add_chart({\n",
    "    'type' : 'column'\n",
    "})\n",
    "\n",
    "graficoColunas.add_series({\n",
    "    'name' : '=Resumo!$B$1',\n",
    "    'categories' : '=Resumo!$A$2:$A$7',\n",
    "    'values' : '=Resumo!$B$2:$B$7'\n",
    "})\n",
    "\n",
    "graficoColunas.set_title({'name' : 'Gráfico total de vendas'})\n",
    "graficoColunas.set_x_axis({'name' : 'Vendedores'})\n",
    "graficoColunas.set_y_axis({'name' : 'Vendas'})\n",
    "\n",
    "graficoColunas.set_style(11)\n",
    "worksheet.insert_chart('D2', graficoColunas, {\n",
    "    'x_offset' : 0,\n",
    "    'y_offset' : 0\n",
    "})\n",
    "\n",
    "workbook.close()\n",
    "\n",
    "\n",
    "# Salvar tudo\n",
    "caminhoPlanilha = \"C:\\\\Users\\\\vini6\\\\Documents\\\\excel\\\\CURSO EXCEL VBA BI\\\\Python\\Automatizando processos\\\\Gráficos.xlsx\"\n",
    "\n",
    "os.startfile(caminhoPlanilha)\n",
    "print(\"Relatório criado!\")\n",
    "  \n",
    "    "
   ]
  },
  {
   "cell_type": "code",
   "execution_count": null,
   "id": "8eb54ffe",
   "metadata": {},
   "outputs": [],
   "source": []
  }
 ],
 "metadata": {
  "kernelspec": {
   "display_name": "Python 3 (ipykernel)",
   "language": "python",
   "name": "python3"
  },
  "language_info": {
   "codemirror_mode": {
    "name": "ipython",
    "version": 3
   },
   "file_extension": ".py",
   "mimetype": "text/x-python",
   "name": "python",
   "nbconvert_exporter": "python",
   "pygments_lexer": "ipython3",
   "version": "3.11.3"
  }
 },
 "nbformat": 4,
 "nbformat_minor": 5
}
