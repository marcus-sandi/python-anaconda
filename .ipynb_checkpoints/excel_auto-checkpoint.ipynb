{
 "cells": [
  {
   "cell_type": "code",
   "execution_count": 2,
   "id": "41f85a31",
   "metadata": {},
   "outputs": [
    {
     "name": "stdout",
     "output_type": "stream",
     "text": [
      "Collecting xlsxwriter\n",
      "  Downloading XlsxWriter-3.1.2-py3-none-any.whl (153 kB)\n",
      "                                              0.0/153.0 kB ? eta -:--:--\n",
      "     --                                       10.2/153.0 kB ? eta -:--:--\n",
      "     -------                               30.7/153.0 kB 435.7 kB/s eta 0:00:01\n",
      "     ---------                             41.0/153.0 kB 281.8 kB/s eta 0:00:01\n",
      "     -----------------                     71.7/153.0 kB 393.8 kB/s eta 0:00:01\n",
      "     ----------------------                92.2/153.0 kB 438.1 kB/s eta 0:00:01\n",
      "     ----------------------------         122.9/153.0 kB 450.6 kB/s eta 0:00:01\n",
      "     ---------------------------------    143.4/153.0 kB 473.7 kB/s eta 0:00:01\n",
      "     ---------------------------------    143.4/153.0 kB 473.7 kB/s eta 0:00:01\n",
      "     ------------------------------------ 153.0/153.0 kB 366.1 kB/s eta 0:00:00\n",
      "Installing collected packages: xlsxwriter\n",
      "Successfully installed xlsxwriter-3.1.2\n"
     ]
    }
   ],
   "source": [
    "#!pip install xlsxwriter"
   ]
  },
  {
   "cell_type": "code",
   "execution_count": 5,
   "id": "baa4fc3a",
   "metadata": {},
   "outputs": [],
   "source": [
    "import xlsxwriter\n",
    "import os\n",
    "\n",
    "caminhoArquivo = 'C:\\\\Users\\\\vini6\\\\Documents\\\\excel\\\\CURSO EXCEL VBA BI\\\\Python\\Automatizando processos\\\\Excel com Python.xlsx'\n",
    "\n",
    "# Cria uma nova planilha em branco com o nome Sheet1\n",
    "workbook = xlsxwriter.Workbook(caminhoArquivo)\n",
    "\n",
    "worksheet = workbook.add_worksheet()\n",
    "\n",
    "# Adicionando dados na worksheet\n",
    "worksheet.write(\"A1\", \"Nome\")\n",
    "worksheet.write(\"B1\", \"Idade\")\n",
    "worksheet.write(\"A2\", \"Marcus\")\n",
    "worksheet.write(\"B2\", \"21\")\n",
    "\n",
    "# Fecha o arquivo\n",
    "workbook.close()\n",
    "\n",
    "# Inicia o arquivo criado\n",
    "os.startfile(caminhoArquivo)"
   ]
  },
  {
   "cell_type": "code",
   "execution_count": null,
   "id": "dcdd0df2",
   "metadata": {},
   "outputs": [],
   "source": []
  }
 ],
 "metadata": {
  "kernelspec": {
   "display_name": "Python 3 (ipykernel)",
   "language": "python",
   "name": "python3"
  },
  "language_info": {
   "codemirror_mode": {
    "name": "ipython",
    "version": 3
   },
   "file_extension": ".py",
   "mimetype": "text/x-python",
   "name": "python",
   "nbconvert_exporter": "python",
   "pygments_lexer": "ipython3",
   "version": "3.11.3"
  }
 },
 "nbformat": 4,
 "nbformat_minor": 5
}
