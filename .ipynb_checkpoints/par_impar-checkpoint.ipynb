{
 "cells": [
  {
   "cell_type": "code",
   "execution_count": 3,
   "id": "0d505f96",
   "metadata": {},
   "outputs": [
    {
     "name": "stdout",
     "output_type": "stream",
     "text": [
      "Digite um número 4\n",
      "Número é par!\n"
     ]
    }
   ],
   "source": [
    "#Par ou impar\n",
    "\n",
    "n = int(input(\"Digite um número \"))\n",
    "\n",
    "verificarNumero = n % 2\n",
    "\n",
    "if verificarNumero == 0:\n",
    "    print(\"Número é par!\")\n",
    "else:\n",
    "    print(\"Número é impar!\")"
   ]
  },
  {
   "cell_type": "code",
   "execution_count": 7,
   "id": "49ec0238",
   "metadata": {},
   "outputs": [
    {
     "name": "stdout",
     "output_type": "stream",
     "text": [
      "6627\n"
     ]
    }
   ],
   "source": [
    "import random\n",
    "\n",
    "print(random.randrange(1, 10000))"
   ]
  }
 ],
 "metadata": {
  "kernelspec": {
   "display_name": "Python 3 (ipykernel)",
   "language": "python",
   "name": "python3"
  },
  "language_info": {
   "codemirror_mode": {
    "name": "ipython",
    "version": 3
   },
   "file_extension": ".py",
   "mimetype": "text/x-python",
   "name": "python",
   "nbconvert_exporter": "python",
   "pygments_lexer": "ipython3",
   "version": "3.11.3"
  }
 },
 "nbformat": 4,
 "nbformat_minor": 5
}
