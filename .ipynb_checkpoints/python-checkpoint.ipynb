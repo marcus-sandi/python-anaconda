{
 "cells": [
  {
   "cell_type": "code",
   "execution_count": 1,
   "id": "e09d5bfa",
   "metadata": {},
   "outputs": [
    {
     "name": "stdout",
     "output_type": "stream",
     "text": [
      "Script executado com sucesso!\n"
     ]
    }
   ],
   "source": [
    "# comentário\n",
    "\n",
    "print(\"Script executado com sucesso!\")"
   ]
  },
  {
   "cell_type": "code",
   "execution_count": 2,
   "id": "a1ff3248",
   "metadata": {},
   "outputs": [
    {
     "name": "stdout",
     "output_type": "stream",
     "text": [
      "Nome do Cara:  Marcus  Idade:  30\n"
     ]
    }
   ],
   "source": [
    "# Variaveis\n",
    "idade = 30\n",
    "nome = \"Marcus\"\n",
    "\n",
    "print(\"Nome do Cara: \", nome, \" Idade: \" , idade)"
   ]
  },
  {
   "cell_type": "code",
   "execution_count": null,
   "id": "4a13aa98",
   "metadata": {},
   "outputs": [],
   "source": [
    "idade = str(3)"
   ]
  },
  {
   "cell_type": "code",
   "execution_count": null,
   "id": "7f18f8fe",
   "metadata": {},
   "outputs": [],
   "source": []
  }
 ],
 "metadata": {
  "kernelspec": {
   "display_name": "Python 3 (ipykernel)",
   "language": "python",
   "name": "python3"
  },
  "language_info": {
   "codemirror_mode": {
    "name": "ipython",
    "version": 3
   },
   "file_extension": ".py",
   "mimetype": "text/x-python",
   "name": "python",
   "nbconvert_exporter": "python",
   "pygments_lexer": "ipython3",
   "version": "3.11.3"
  }
 },
 "nbformat": 4,
 "nbformat_minor": 5
}
