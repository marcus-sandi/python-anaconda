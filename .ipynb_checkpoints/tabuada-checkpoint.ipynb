{
 "cells": [
  {
   "cell_type": "code",
   "execution_count": 1,
   "id": "99895fc4",
   "metadata": {},
   "outputs": [
    {
     "name": "stdout",
     "output_type": "stream",
     "text": [
      "A tabuada do número que quer ver: 3\n",
      "3  * 1 =  3\n",
      "3  * 2 =  6\n",
      "3  * 3 =  9\n",
      "3  * 4 =  12\n",
      "3  * 5 =  15\n",
      "3  * 6 =  18\n",
      "3  * 7 =  21\n",
      "3  * 8 =  24\n",
      "3  * 9 =  27\n",
      "3  * 10 =  30\n"
     ]
    }
   ],
   "source": [
    "#Tabuada\n",
    "\n",
    "n = int(input(\"A tabuada do número que quer ver: \"))\n",
    "\n",
    "print(n, \" * 1 = \", n * 1)\n",
    "print(n, \" * 2 = \", n * 2)\n",
    "print(n, \" * 3 = \", n * 3)\n",
    "print(n, \" * 4 = \", n * 4)\n",
    "print(n, \" * 5 = \", n * 5)\n",
    "print(n, \" * 6 = \", n * 6)\n",
    "print(n, \" * 7 = \", n * 7)\n",
    "print(n, \" * 8 = \", n * 8)\n",
    "print(n, \" * 9 = \", n * 9)\n",
    "print(n, \" * 10 = \", n * 10)"
   ]
  }
 ],
 "metadata": {
  "kernelspec": {
   "display_name": "Python 3 (ipykernel)",
   "language": "python",
   "name": "python3"
  },
  "language_info": {
   "codemirror_mode": {
    "name": "ipython",
    "version": 3
   },
   "file_extension": ".py",
   "mimetype": "text/x-python",
   "name": "python",
   "nbconvert_exporter": "python",
   "pygments_lexer": "ipython3",
   "version": "3.11.3"
  }
 },
 "nbformat": 4,
 "nbformat_minor": 5
}
