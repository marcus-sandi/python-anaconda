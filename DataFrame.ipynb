{
 "cells": [
  {
   "cell_type": "code",
   "execution_count": 4,
   "id": "aeb58b81",
   "metadata": {},
   "outputs": [],
   "source": [
    "import xlsxwriter as xls\n",
    "import os\n",
    "import pandas as pd\n",
    "\n",
    "dataFrame = pd.DataFrame({\n",
    "    'Nome' : ['Marcus', 'Milena', 'Santana'],\n",
    "    'Idade' : [21, 24, 54],\n",
    "    'Salário' : [0, 2500, 3800]\n",
    "})\n",
    "\n",
    "# caminhoArquivo = 'C:\\\\Users\\\\vini6\\\\Documents\\\\excel\\\\CURSO EXCEL VBA BI\\\\Python\\Automatizando processos\\\\DataFrame.xlsx'\n",
    "\n",
    "arquivo = pd.ExcelWriter('C:\\\\Users\\\\vini6\\\\Documents\\\\excel\\\\CURSO EXCEL VBA BI\\\\Python\\Automatizando processos\\\\DataFrame.xlsx',\n",
    "                        engine='xlsxwriter')\n",
    "\n",
    "# Converte o DataFrame em Excel\n",
    "dataFrame.to_excel(arquivo, sheet_name='Dados')\n",
    "\n",
    "# Pega a pasta de trabalho xlswriter e os objetos de planilha\n",
    "workbook = arquivo.book\n",
    "worksheet = arquivo.sheets['Dados']\n",
    "\n",
    "# Formato de moeda\n",
    "formatoMoeda = workbook.add_format({\n",
    "    'num_format' : '#,##0.00'\n",
    "})\n",
    "\n",
    "worksheet.set_column('D:D', None, formatoMoeda)\n",
    "\n",
    "# Fecha o arquivo\n",
    "workbook.close()\n",
    "\n",
    "# Inicia o arquivo criado\n",
    "os.startfile(arquivo)"
   ]
  },
  {
   "cell_type": "code",
   "execution_count": null,
   "id": "26f37717",
   "metadata": {},
   "outputs": [],
   "source": []
  }
 ],
 "metadata": {
  "kernelspec": {
   "display_name": "Python 3 (ipykernel)",
   "language": "python",
   "name": "python3"
  },
  "language_info": {
   "codemirror_mode": {
    "name": "ipython",
    "version": 3
   },
   "file_extension": ".py",
   "mimetype": "text/x-python",
   "name": "python",
   "nbconvert_exporter": "python",
   "pygments_lexer": "ipython3",
   "version": "3.11.3"
  }
 },
 "nbformat": 4,
 "nbformat_minor": 5
}
