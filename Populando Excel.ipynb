{
 "cells": [
  {
   "cell_type": "code",
   "execution_count": 4,
   "id": "f91be436",
   "metadata": {},
   "outputs": [
    {
     "name": "stdout",
     "output_type": "stream",
     "text": [
      "Dados colocado com sucesso!\n"
     ]
    }
   ],
   "source": [
    "from openpyxl import load_workbook\n",
    "import os\n",
    "\n",
    "arquivo = 'C:\\\\Users\\\\vini6\\\\Documents\\\\excel\\\\CURSO EXCEL VBA BI\\\\Python\\Automatizando processos\\\\PythonInserindoInformacoesDeLista.xlsx'\n",
    "planilha_selecionada = load_workbook(filename=arquivo)\n",
    "\n",
    "sheet_selecionada = planilha_selecionada['Aluno']\n",
    "\n",
    "dadosTabela = [\n",
    "    ['Nome', 'Idade'],\n",
    "    ['Milena', 24],\n",
    "    ['Marcus', 21],\n",
    "    ['Lazaro', 29],\n",
    "    ['Kzoar', 87],\n",
    "    ['Camargo', 7]\n",
    "]\n",
    "\n",
    "# Colocando dados da 'dadosTabela' no Excel com um for\n",
    "for i in dadosTabela:\n",
    "    sheet_selecionada.append(i)\n",
    "\n",
    "print(\"Dados colocado com sucesso!\")\n",
    "    \n",
    "# Salvar tudo\n",
    "planilha_selecionada.save(filename=arquivo)\n",
    "\n",
    "os.startfile(arquivo)"
   ]
  },
  {
   "cell_type": "code",
   "execution_count": null,
   "id": "e2128f8b",
   "metadata": {},
   "outputs": [],
   "source": []
  }
 ],
 "metadata": {
  "kernelspec": {
   "display_name": "Python 3 (ipykernel)",
   "language": "python",
   "name": "python3"
  },
  "language_info": {
   "codemirror_mode": {
    "name": "ipython",
    "version": 3
   },
   "file_extension": ".py",
   "mimetype": "text/x-python",
   "name": "python",
   "nbconvert_exporter": "python",
   "pygments_lexer": "ipython3",
   "version": "3.11.3"
  }
 },
 "nbformat": 4,
 "nbformat_minor": 5
}
