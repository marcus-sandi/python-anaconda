{
 "cells": [
  {
   "cell_type": "code",
   "execution_count": 3,
   "id": "5a3e22e1",
   "metadata": {},
   "outputs": [
    {
     "name": "stdout",
     "output_type": "stream",
     "text": [
      "Dados executados com sucesso!\n"
     ]
    }
   ],
   "source": [
    "from openpyxl import load_workbook\n",
    "import os\n",
    "\n",
    "arquivo = 'C:\\\\Users\\\\vini6\\\\Documents\\\\excel\\\\CURSO EXCEL VBA BI\\\\Python\\Automatizando processos\\\\Vendedores.xlsx'\n",
    "planilha_selecionada = load_workbook(filename=arquivo)\n",
    "\n",
    "sheet_selecionada = planilha_selecionada['Vendas']\n",
    "\n",
    "somaAmandaMartins = 0\n",
    "somaElianeMoreira = 0\n",
    "somaLeonardoAlmeida = 0\n",
    "somaNicolasPereira = 0\n",
    "\n",
    "for i in range(2, len(sheet_selecionada['C']) + 1):\n",
    "            \n",
    "    if sheet_selecionada['A%s' % i].value == \"Amanda Martins\":\n",
    "            somaAmandaMartins = somaAmandaMartins + sheet_selecionada['C%s' % i].value\n",
    "            \n",
    "    elif sheet_selecionada['A%s' % i].value == \"Eliane Moreira\":\n",
    "            somaElianeMoreira = somaElianeMoreira + sheet_selecionada['C%s' % i].value   \n",
    "    \n",
    "    elif sheet_selecionada['A%s' % i].value == \"Leonardo Almeida\":\n",
    "            somaLeonardoAlmeida = somaLeonardoAlmeida + sheet_selecionada['C%s' % i].value\n",
    "     \n",
    "    elif sheet_selecionada['A%s' % i].value == \"Nicolas Pereira\":\n",
    "            somaNicolasPereira = somaNicolasPereira + sheet_selecionada['C%s' % i].value   \n",
    "            \n",
    "sheetResumo = planilha_selecionada.create_sheet(\"Resumo\")\n",
    "            \n",
    "# Trabalhando com a sheet criada\n",
    "sheet_selecionada = planilha_selecionada['Resumo']\n",
    "          \n",
    "# Título\n",
    "sheet_selecionada['A1'] = \"Vendedor\"\n",
    "sheet_selecionada['B1'] = \"Vendas\"\n",
    "    \n",
    "#Preenche dados do vendedor\n",
    "sheet_selecionada['A2'] = \"Amanda Martins\"\n",
    "sheet_selecionada['B2'] = somaAmandaMartins\n",
    "            \n",
    "sheet_selecionada['A3'] = \"Eliane Moreira\"\n",
    "sheet_selecionada['B3'] = somaElianeMoreira\n",
    "            \n",
    "sheet_selecionada['A4'] = \"Leonardo Almeida\"\n",
    "sheet_selecionada['B4'] = somaLeonardoAlmeida\n",
    "            \n",
    "sheet_selecionada['A5'] = \"Nicolas Pereira\"\n",
    "sheet_selecionada['B5'] = somaNicolasPereira\n",
    "\n",
    "print(\"Dados executados com sucesso!\")\n",
    "    \n",
    "# Salvar tudo\n",
    "planilha_selecionada.save(filename=arquivo)\n",
    "\n",
    "os.startfile(arquivo)"
   ]
  },
  {
   "cell_type": "code",
   "execution_count": null,
   "id": "ef3271a3",
   "metadata": {},
   "outputs": [],
   "source": []
  }
 ],
 "metadata": {
  "kernelspec": {
   "display_name": "Python 3 (ipykernel)",
   "language": "python",
   "name": "python3"
  },
  "language_info": {
   "codemirror_mode": {
    "name": "ipython",
    "version": 3
   },
   "file_extension": ".py",
   "mimetype": "text/x-python",
   "name": "python",
   "nbconvert_exporter": "python",
   "pygments_lexer": "ipython3",
   "version": "3.11.3"
  }
 },
 "nbformat": 4,
 "nbformat_minor": 5
}
