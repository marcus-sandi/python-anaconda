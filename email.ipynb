{
 "cells": [
  {
   "cell_type": "code",
   "execution_count": 2,
   "metadata": {},
   "outputs": [
    {
     "name": "stdout",
     "output_type": "stream",
     "text": [
      "Email enviado!\n"
     ]
    }
   ],
   "source": [
    "import win32com.client as win32\n",
    "\n",
    "outlook = win32.Dispatch('outlook.application')\n",
    "\n",
    "emailOutlook = outlook.CreateItem(0)\n",
    "\n",
    "emailOutlook.To = \"vini6789.98@gmail.com\"\n",
    "emailOutlook.Subject = \"Email com Python\"\n",
    "emailOutlook.HTMLBody = \"\"\"\n",
    "<h1>Envio de e-mail automatizado</h1>\n",
    "<p>Obrigado querido...</p>\n",
    "\"\"\"\n",
    "emailOutlook.save()\n",
    "\n",
    "print(\"Email enviado!\")"
   ]
  }
 ],
 "metadata": {
  "kernelspec": {
   "display_name": "base",
   "language": "python",
   "name": "python3"
  },
  "language_info": {
   "codemirror_mode": {
    "name": "ipython",
    "version": 3
   },
   "file_extension": ".py",
   "mimetype": "text/x-python",
   "name": "python",
   "nbconvert_exporter": "python",
   "pygments_lexer": "ipython3",
   "version": "3.11.3"
  },
  "orig_nbformat": 4
 },
 "nbformat": 4,
 "nbformat_minor": 2
}
