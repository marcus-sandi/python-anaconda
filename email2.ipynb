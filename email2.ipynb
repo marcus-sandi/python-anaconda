{
 "cells": [
  {
   "cell_type": "code",
   "execution_count": 4,
   "metadata": {},
   "outputs": [
    {
     "name": "stdout",
     "output_type": "stream",
     "text": [
      "Email enviado!\n"
     ]
    }
   ],
   "source": [
    "import win32com.client as win32\n",
    "\n",
    "outlook = win32.Dispatch('outlook.application')\n",
    "\n",
    "emailOutlook = outlook.CreateItem(0)\n",
    "\n",
    "nome = \"Marcus Sandi\"\n",
    "\n",
    "emailOutlook.To = \"vini6789.98@gmail.com\"\n",
    "emailOutlook.Subject = \"Email com Python\"\n",
    "emailOutlook.HTMLBody = f\"\"\"\n",
    "<h1><b>Envio de e-mail automatizado</b></h1>\n",
    "<p>Boa tarde querido(a) {nome}!</p>\n",
    "<p>Esse e-mail foi enviado automaticamente, usando Python :D</p>\n",
    "<p>Atenciosamente</p>\n",
    "<img src=\"C:\\\\Assinatura\\\\dark-cottage.jpg\" width=\"400px\">\n",
    "\"\"\"\n",
    "emailOutlook.save()\n",
    "\n",
    "print(\"Email enviado!\")"
   ]
  }
 ],
 "metadata": {
  "kernelspec": {
   "display_name": "base",
   "language": "python",
   "name": "python3"
  },
  "language_info": {
   "codemirror_mode": {
    "name": "ipython",
    "version": 3
   },
   "file_extension": ".py",
   "mimetype": "text/x-python",
   "name": "python",
   "nbconvert_exporter": "python",
   "pygments_lexer": "ipython3",
   "version": "3.11.3"
  },
  "orig_nbformat": 4
 },
 "nbformat": 4,
 "nbformat_minor": 2
}
