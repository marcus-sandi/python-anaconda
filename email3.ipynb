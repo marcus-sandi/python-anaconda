{
 "cells": [
  {
   "cell_type": "code",
   "execution_count": 4,
   "metadata": {},
   "outputs": [
    {
     "name": "stdout",
     "output_type": "stream",
     "text": [
      "Email enviado para Leonardo Almeida!\n",
      "Email enviado para Eliane Moreira!\n",
      "Email enviado para Nicolas Pereira!\n",
      "Email enviado para Amanda Martins!\n"
     ]
    }
   ],
   "source": [
    "from openpyxl import load_workbook\n",
    "import os\n",
    "import win32com.client as win32\n",
    "\n",
    "arquivos = 'C:\\\\Users\\\\vini6\\\\Documents\\\\excel\\\\CURSO EXCEL VBA BI\\\\Python\\Automatizando processos\\\\ListaEmails.xlsx'\n",
    "\n",
    "planilha_aberta = load_workbook(filename=arquivos)\n",
    "\n",
    "sheet_selecionada = planilha_aberta['Dados']\n",
    "\n",
    "for i in range(2, len(sheet_selecionada['B']) + 1):\n",
    "    outlook = win32.Dispatch('outlook.application')\n",
    "\n",
    "    emailOutlook = outlook.CreateItem(0)\n",
    "\n",
    "    nome = sheet_selecionada['A%s' % i].value\n",
    "    email = sheet_selecionada['B%s' % i].value\n",
    "\n",
    "\n",
    "    emailOutlook.To = email\n",
    "    emailOutlook.Subject = \"Email com Python\"\n",
    "    emailOutlook.HTMLBody = f\"\"\"\n",
    "    <h1><b>Envio de e-mail automatizado</b></h1>\n",
    "    <p>Boa tarde querido(a) {nome}!</p>\n",
    "    <p>Esse e-mail foi enviado automaticamente, usando Python :D</p>\n",
    "    <br>\n",
    "    <p>It is a long established fact that a reader will be distracted by the readable content of a page when looking at its layout. The point of using Lorem Ipsum is that it has a more-or-less normal distribution of letters, as opposed to using 'Content here, content here', making it look like readable English. Many desktop publishing packages and web page editors now use Lorem Ipsum as their default model text, and a search for 'lorem ipsum' will uncover many web sites still in their infancy. Various versions have evolved over the years, sometimes by accident, sometimes on purpose (injected humour and the like).\n",
    "    </p>\n",
    "    <p>Atenciosamente</p>\n",
    "    <img src=\"C:\\\\Assinatura\\\\dark-cottage.jpg\" width=\"400px\">\n",
    "    \"\"\"\n",
    "\n",
    "    anexo_excel = \"C:\\\\Users\\\\vini6\\\\Documents\\\\excel\\\\CURSO EXCEL VBA BI\\\\Python\\Automatizando processos\\\\ListaEmails.xlsx\"\n",
    "    emailOutlook.Attachments.Add(anexo_excel)\n",
    "\n",
    "    emailOutlook.save()\n",
    "    print(f\"Email enviado para {nome}!\")\n"
   ]
  }
 ],
 "metadata": {
  "kernelspec": {
   "display_name": "base",
   "language": "python",
   "name": "python3"
  },
  "language_info": {
   "codemirror_mode": {
    "name": "ipython",
    "version": 3
   },
   "file_extension": ".py",
   "mimetype": "text/x-python",
   "name": "python",
   "nbconvert_exporter": "python",
   "pygments_lexer": "ipython3",
   "version": "3.11.3"
  },
  "orig_nbformat": 4
 },
 "nbformat": 4,
 "nbformat_minor": 2
}
