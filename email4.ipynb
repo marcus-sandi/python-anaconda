{
 "cells": [
  {
   "cell_type": "code",
   "execution_count": null,
   "metadata": {},
   "outputs": [],
   "source": [
    "import win32com.client as win32\n",
    "from email.mime.multipart import MIMEMultipart\n",
    "from email.mime.text import MIMEText\n",
    "import openpyxl\n",
    "\n",
    "# Configurações do Outlook\n",
    "outlook = win32.Dispatch('Outlook.Application')\n",
    "namespace = outlook.GetNamespace(\"MAPI\")\n",
    "\n",
    "# Configurações da planilha Excel\n",
    "planilha = openpyxl.load_workbook('C:\\\\Users\\\\vini6\\\\Documents\\\\excel\\\\CURSO EXCEL VBA BI\\\\Python\\Automatizando processos\\\\ListaEmails.xlsx')\n",
    "planilha_ativa = planilha.active\n",
    "\n",
    "# Percorrer a planilha e enviar emails com cópia\n",
    "for linha in planilha_ativa.iter_rows(min_row=2, values_only=True):\n",
    "    destinatario = linha[0]\n",
    "    assunto = linha[1]\n",
    "    corpo = linha[2]\n",
    "    copia = linha[3]\n",
    "\n",
    "    msg = MIMEMultipart()\n",
    "    msg['From'] = \"tradedomarcus@gmail.com\"\n",
    "    msg['To'] = destinatario\n",
    "    msg['Cc'] = copia\n",
    "    msg['Subject'] = assunto\n",
    "\n",
    "    msg.attach(MIMEText(corpo, 'plain'))\n",
    "\n",
    "    # Enviar o email usando o Outlook\n",
    "    mail = outlook.CreateItem(0)\n",
    "    mail.Subject = assunto\n",
    "    mail.Body = corpo\n",
    "    mail.To = destinatario\n",
    "    mail.CC = copia\n",
    "    mail.Send()\n",
    "\n",
    "print(\"Emails enviados com sucesso.\")"
   ]
  }
 ],
 "metadata": {
  "language_info": {
   "name": "python"
  },
  "orig_nbformat": 4
 },
 "nbformat": 4,
 "nbformat_minor": 2
}
