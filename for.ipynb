{
 "cells": [
  {
   "cell_type": "code",
   "execution_count": 4,
   "id": "dc174c0b",
   "metadata": {},
   "outputs": [
    {
     "name": "stdout",
     "output_type": "stream",
     "text": [
      "p\n",
      "y\n",
      "t\n",
      "h\n",
      "o\n",
      "n\n",
      " \n",
      "é\n",
      " \n",
      "e\n",
      "s\n",
      "t\n",
      "r\n",
      "a\n",
      "n\n",
      "h\n",
      "o\n"
     ]
    }
   ],
   "source": [
    "for texto in \"python é estranho\":\n",
    "    print(texto)"
   ]
  },
  {
   "cell_type": "code",
   "execution_count": 6,
   "id": "436f56a3",
   "metadata": {},
   "outputs": [
    {
     "name": "stdout",
     "output_type": "stream",
     "text": [
      "T\n",
      "e\n",
      "x\n",
      "t\n",
      "o\n",
      " \n"
     ]
    }
   ],
   "source": [
    "texto = \"Texto genérico\"\n",
    "print(texto[0])\n",
    "print(texto[1])\n",
    "print(texto[2])\n",
    "print(texto[3])\n",
    "print(texto[4])\n",
    "print(texto[5])"
   ]
  },
  {
   "cell_type": "code",
   "execution_count": 13,
   "id": "e4aa7e65",
   "metadata": {},
   "outputs": [
    {
     "name": "stdout",
     "output_type": "stream",
     "text": [
      "Texto\n",
      "Texto genérico\n"
     ]
    }
   ],
   "source": [
    "texto = \"Texto genérico\"\n",
    "print(texto[0:5])\n",
    "print(texto[:14])"
   ]
  },
  {
   "cell_type": "code",
   "execution_count": null,
   "id": "37593b2d",
   "metadata": {},
   "outputs": [],
   "source": []
  }
 ],
 "metadata": {
  "kernelspec": {
   "display_name": "Python 3 (ipykernel)",
   "language": "python",
   "name": "python3"
  },
  "language_info": {
   "codemirror_mode": {
    "name": "ipython",
    "version": 3
   },
   "file_extension": ".py",
   "mimetype": "text/x-python",
   "name": "python",
   "nbconvert_exporter": "python",
   "pygments_lexer": "ipython3",
   "version": "3.11.3"
  }
 },
 "nbformat": 4,
 "nbformat_minor": 5
}
