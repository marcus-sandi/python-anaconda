{
 "cells": [
  {
   "cell_type": "code",
   "execution_count": 2,
   "id": "a1be41d8",
   "metadata": {},
   "outputs": [],
   "source": [
    "import xlsxwriter\n",
    "import os\n",
    "import datetime\n",
    "\n",
    "caminhoArquivo = 'C:\\\\Users\\\\vini6\\\\Documents\\\\excel\\\\CURSO EXCEL VBA BI\\\\Python\\Automatizando processos\\\\Excel com PythonIII.xlsx'\n",
    "\n",
    "# Cria uma nova planilha em branco com o nome Sheet1\n",
    "workbook = xlsxwriter.Workbook(caminhoArquivo)\n",
    "\n",
    "# Propriedades da planilha\n",
    "workbook.set_properties({\n",
    "    'category' : \"Estudante\",\n",
    "    'title' : \"Segundo arquivo Excel com Python\",\n",
    "    'subject' : \"Aula de Python\",\n",
    "    'author' : \"Marcus Sandi\",\n",
    "    'company' : \"Hostel 98\",\n",
    "    'keywords' : \"Marcus\",\n",
    "    'create' : datetime.date(2023, 8, 7),\n",
    "    'comments' : \"Ótimo estudo!\"\n",
    "})\n",
    "\n",
    "# Cria uma Sheet com o nome \"Dados\"\n",
    "worksheet = workbook.add_worksheet(\"Dados\")\n",
    "\n",
    "# Pinta background vermelho\n",
    "corBackground = workbook.add_format({\n",
    "    'fg_color' : 'red'\n",
    "})\n",
    "\n",
    "# Pinta fonta de azul\n",
    "corFont = workbook.add_format()\n",
    "corFont.set_font_color('blue')\n",
    "\n",
    "# Adicionando dados na worksheet\n",
    "worksheet.write(\"A1\", \"Nome\", corBackground)\n",
    "worksheet.write(\"B1\", \"Idade\", corBackground)\n",
    "worksheet.write(\"A2\", \"Marcus\")\n",
    "worksheet.write(\"B2\", 21, corFont)\n",
    "worksheet.write(\"A3\", \"Milena\")\n",
    "worksheet.write(\"B3\", 24, corFont)\n",
    "worksheet.write(\"A4\", \"Caetano\")\n",
    "worksheet.write(\"B4\", 64, corFont)\n",
    "\n",
    "# Fecha o arquivo\n",
    "workbook.close()\n",
    "\n",
    "# Inicia o arquivo criado\n",
    "os.startfile(caminhoArquivo)"
   ]
  },
  {
   "cell_type": "code",
   "execution_count": null,
   "id": "4b4ccff8",
   "metadata": {},
   "outputs": [],
   "source": []
  }
 ],
 "metadata": {
  "kernelspec": {
   "display_name": "Python 3 (ipykernel)",
   "language": "python",
   "name": "python3"
  },
  "language_info": {
   "codemirror_mode": {
    "name": "ipython",
    "version": 3
   },
   "file_extension": ".py",
   "mimetype": "text/x-python",
   "name": "python",
   "nbconvert_exporter": "python",
   "pygments_lexer": "ipython3",
   "version": "3.11.3"
  }
 },
 "nbformat": 4,
 "nbformat_minor": 5
}
